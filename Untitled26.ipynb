{
  "nbformat": 4,
  "nbformat_minor": 0,
  "metadata": {
    "colab": {
      "provenance": []
    },
    "kernelspec": {
      "name": "python3",
      "display_name": "Python 3"
    },
    "language_info": {
      "name": "python"
    }
  },
  "cells": [
    {
      "cell_type": "code",
      "source": [
        "import torch\n",
        "import torch.nn as nn\n",
        "import torch.nn.functional as F\n",
        "import matplotlib.pyplot as plt\n",
        "\n"
      ],
      "metadata": {
        "id": "oMDIFf0UEyN0"
      },
      "execution_count": 21,
      "outputs": []
    },
    {
      "cell_type": "code",
      "source": [
        "class MyNeuralNet(nn.Module):\n",
        "    def __init__(self):\n",
        "        super(MyNeuralNet, self).__init__()\n",
        "\n",
        "        # ===== Layer 1 (3 neurons, ReLU) =====\n",
        "        self.w0 = torch.randn(1, 3, requires_grad=True)\n",
        "        self.b0 = torch.randn(3, requires_grad=True)\n",
        "\n",
        "        # ===== Layer 2 (2 neurons, Sigmoid) =====\n",
        "        self.w1 = torch.randn(3, 2, requires_grad=True)\n",
        "        self.b1 = torch.randn(2, requires_grad=True)\n",
        "\n",
        "        # ===== Output layer (1 neuron, Linear) =====\n",
        "        self.w2 = torch.randn(2, 1, requires_grad=True) # Changed shape from (1, 1) to (2, 1)\n",
        "        self.b2 = torch.randn(1, requires_grad=True)\n",
        "\n",
        "    def forward(self, x):\n",
        "        print(\"Input:\", x)\n",
        "\n",
        "        # ---- Layer 1 ----\n",
        "        z1 = x @ self.w0 + self.b0\n",
        "        a1 = torch.relu(z1)\n",
        "        print(\"\\nLayer 1 (ReLU):\")\n",
        "        print(\"z1 =\", z1)\n",
        "        print(\"a1 =\", a1)\n",
        "\n",
        "        # ---- Layer 2 ----\n",
        "        z2 = a1 @ self.w1 + self.b1\n",
        "        a2 = torch.sigmoid(z2)\n",
        "        print(\"\\nLayer 2 (Sigmoid):\")\n",
        "        print(\"z2 =\", z2)\n",
        "        print(\"a2 =\", a2)\n",
        "\n",
        "        # ---- Combine outputs (+) and apply Tanh ----\n",
        "        # Ensure that a1[:, :2] has the same number of dimensions as a2\n",
        "        combined = a1[:, :2] + a2\n",
        "        a3 = torch.tanh(combined)\n",
        "        print(\"\\nCombine + Tanh:\")\n",
        "        print(\"combined =\", combined)\n",
        "        print(\"a3 =\", a3)\n",
        "\n",
        "\n",
        "        # ---- Output layer ----\n",
        "        z3 = a3 @ self.w2 + self.b2\n",
        "        output = z3\n",
        "        print(\"\\nOutput layer (Linear):\")\n",
        "        print(\"output =\", output)\n",
        "\n",
        "        # ---- Visualization ----\n",
        "        self.visualize_layers(a1, a2, a3)\n",
        "\n",
        "        return output\n",
        "\n",
        "    def visualize_layers(self, a1, a2, a3):\n",
        "        \"\"\"Visualize activation outputs of layers\"\"\"\n",
        "        fig, axs = plt.subplots(1, 3, figsize=(12, 4))\n",
        "        fig.suptitle(\"Activations Visualization\", fontsize=14)\n",
        "\n",
        "        axs[0].bar(range(len(a1[0])), a1[0].detach().numpy(), color='orange')\n",
        "        axs[0].set_title(\"Layer 1 - ReLU\")\n",
        "        axs[0].set_xlabel(\"Neuron\")\n",
        "        axs[0].set_ylabel(\"Activation\")\n",
        "\n",
        "        axs[1].bar(range(len(a2[0])), a2[0].detach().numpy(), color='green')\n",
        "        axs[1].set_title(\"Layer 2 - Sigmoid\")\n",
        "        axs[1].set_xlabel(\"Neuron\")\n",
        "\n",
        "        axs[2].bar(range(len(a3[0])), a3[0].detach().numpy(), color='blue')\n",
        "        axs[2].set_title(\"Combine - Tanh\")\n",
        "        axs[2].set_xlabel(\"Neuron\")\n",
        "\n",
        "        plt.tight_layout()\n",
        "        plt.show()"
      ],
      "metadata": {
        "id": "kOPWOX7YEyzY"
      },
      "execution_count": 39,
      "outputs": []
    },
    {
      "cell_type": "code",
      "source": [
        "# This cell is now empty and can be deleted or ignored."
      ],
      "metadata": {
        "id": "wkFCI6ywE0AU"
      },
      "execution_count": 32,
      "outputs": []
    },
    {
      "cell_type": "code",
      "source": [
        "# This cell is now empty and can be deleted or ignored."
      ],
      "metadata": {
        "id": "rzDUZgJFE1wn"
      },
      "execution_count": 33,
      "outputs": []
    },
    {
      "cell_type": "code",
      "source": [
        "# This cell is now empty and can be deleted or ignored."
      ],
      "metadata": {
        "id": "hBFUT2zWE9lG"
      },
      "execution_count": 34,
      "outputs": []
    },
    {
      "cell_type": "code",
      "source": [
        "# This cell is now empty and can be deleted or ignored."
      ],
      "metadata": {
        "id": "B4hYbEPSE_2L"
      },
      "execution_count": 37,
      "outputs": []
    },
    {
      "cell_type": "code",
      "source": [
        "if __name__ == \"__main__\":\n",
        "    net = MyNeuralNet()\n",
        "\n",
        "    # Example input tensor\n",
        "    x = torch.tensor([[1.0]], requires_grad=True)\n",
        "\n",
        "    # Forward pass\n",
        "    output = net(x)\n",
        "\n",
        "    # Backward pass\n",
        "    output.backward(torch.ones_like(output))\n",
        "\n",
        "    # Print gradients\n",
        "    print(\"\\n===== GRADIENTS =====\")\n",
        "    print(\"∂output/∂x =\", x.grad)\n",
        "    print(\"∂output/∂w0 =\", net.w0.grad)\n",
        "    print(\"∂output/∂b0 =\", net.b0.grad)\n",
        "    print(\"∂output/∂w1 =\", net.w1.grad)\n",
        "    print(\"∂output/∂b1 =\", net.b1.grad)\n",
        "    print(\"∂output/∂w2 =\", net.w2.grad)\n",
        "    print(\"∂output/∂b2 =\", net.b2.grad)\n"
      ],
      "metadata": {
        "colab": {
          "base_uri": "https://localhost:8080/",
          "height": 766
        },
        "id": "xQndALzpFVnI",
        "outputId": "6533c321-adfa-49fc-9838-46cc7b0a6d33"
      },
      "execution_count": 40,
      "outputs": [
        {
          "output_type": "stream",
          "name": "stdout",
          "text": [
            "Input: tensor([[1.]], requires_grad=True)\n",
            "\n",
            "Layer 1 (ReLU):\n",
            "z1 = tensor([[-0.3486, -0.3498, -0.9215]], grad_fn=<AddBackward0>)\n",
            "a1 = tensor([[0., 0., 0.]], grad_fn=<ReluBackward0>)\n",
            "\n",
            "Layer 2 (Sigmoid):\n",
            "z2 = tensor([[ 0.5609, -0.5355]], grad_fn=<AddBackward0>)\n",
            "a2 = tensor([[0.6367, 0.3692]], grad_fn=<SigmoidBackward0>)\n",
            "\n",
            "Combine + Tanh:\n",
            "combined = tensor([[0.6367, 0.3692]], grad_fn=<AddBackward0>)\n",
            "a3 = tensor([[0.5626, 0.3533]], grad_fn=<TanhBackward0>)\n",
            "\n",
            "Output layer (Linear):\n",
            "output = tensor([[-1.9217]], grad_fn=<AddBackward0>)\n"
          ]
        },
        {
          "output_type": "display_data",
          "data": {
            "text/plain": [
              "<Figure size 1200x400 with 3 Axes>"
            ],
            "image/png": "[encoded data removed]"
          },
          "metadata": {}
        },
        {
          "output_type": "stream",
          "name": "stdout",
          "text": [
            "\n",
            "===== GRADIENTS =====\n",
            "∂output/∂x = tensor([[0.]])\n",
            "∂output/∂w0 = tensor([[0., 0., 0.]])\n",
            "∂output/∂b0 = tensor([0., 0., 0.])\n",
            "∂output/∂w1 = tensor([[-0., -0.],\n",
            "        [-0., -0.],\n",
            "        [-0., -0.]])\n",
            "∂output/∂b1 = tensor([-0.2543, -0.4010])\n",
            "∂output/∂w2 = tensor([[0.5626],\n",
            "        [0.3533]])\n",
            "∂output/∂b2 = tensor([1.])\n"
          ]
        }
      ]
    },
    {
      "cell_type": "code",
      "source": [],
      "metadata": {
        "id": "R-igmXlJFlKO"
      },
      "execution_count": null,
      "outputs": []
    }
  ]
}